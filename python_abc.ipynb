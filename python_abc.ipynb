{
 "cells": [
  {
   "cell_type": "markdown",
   "metadata": {},
   "source": [
    "# Python ABC\n",
    "\n",
    "1. Virtual enviroment\n",
    "2. PEP 8\n",
    "3. Jupyter\n",
    "4. Exception\n",
    "5. Loop ... else\n",
    "6. Generators\n",
    "7. Function wrappers and traps\n",
    "8. Formatted strings\n",
    "9. Dictionaries\n",
    "10. Logging\n",
    "11. Command line arguments\n",
    "12. Problem solving with Python\n",
    "13. Extra info\n",
    "14. BONUS: Operator overloading"
   ]
  },
  {
   "cell_type": "markdown",
   "metadata": {},
   "source": [
    "## 1. Virtual enviroment\n",
    "\n",
    "### 1.1 The old way\n",
    "##### How?\n",
    "`python3 -m venv <name>` or `python -m venv <name>` (if py3 is your main interpreter)\n",
    "\n",
    "activate it via `source .../<name>/bin/activate`\n",
    "deactivate via `deactivate`\n",
    "\n",
    "##### Where?\n",
    "somewhere in your home directory or project directory\n",
    "\n",
    "* `alias <whatever>='source .../<name>/bin/activate'`(good)\n",
    "* use a wrapper bash function (better)\n",
    "\n",
    "##### Why?\n",
    "* cleaner than putting everything in the system\n",
    "* `pip freeze > packages` and then `pip install -r packages`\n",
    "\n",
    "### 1.2 The right... aehh the new way\n",
    "##### How?\n",
    "`pip3 install pipenv` or `pip install pipenv` (if py3 is your main interpreter)\n",
    "\n",
    "* spawn new enviroment: `pipenv --three`\n",
    "* go inside: `pipenv shell`\n",
    "* install packages (lazy way): `pipenv install —skip-lock <name>`\n",
    "\n",
    "##### Where?\n",
    "see avobe.\n",
    "\n",
    "##### Why?\n",
    "* even cleaner!\n",
    "* `pipenv install` in a dir w a Pipfile\n",
    "* much more portable\n"
   ]
  },
  {
   "cell_type": "code",
   "execution_count": 1,
   "metadata": {},
   "outputs": [
    {
     "name": "stdout",
     "output_type": "stream",
     "text": [
      "3.7.3 (default, Aug 20 2019, 17:04:43) \n",
      "[GCC 8.3.0]\n"
     ]
    }
   ],
   "source": [
    "import sys\n",
    "\n",
    "print(sys.version)"
   ]
  },
  {
   "cell_type": "markdown",
   "metadata": {},
   "source": [
    "### 2. PEP 8\n",
    "\n",
    "[PEP 8](https://www.python.org/dev/peps/pep-0008) is a style guide you should follow (as close as possible) when coding python. Some general notes about it:\n",
    "\n",
    "* multiples of four spaces instead of tabs\n",
    "* maximum line size 79 characters\n",
    "* regular variable/function names lower case with underscores (but class names CapConvention)"
   ]
  },
  {
   "cell_type": "code",
   "execution_count": 2,
   "metadata": {},
   "outputs": [
    {
     "name": "stdout",
     "output_type": "stream",
     "text": [
      "[[2, [1, -2, 3]]]\n"
     ]
    }
   ],
   "source": [
    "import numpy as np\n",
    "\n",
    "# constants uppercase\n",
    "I_AM_A_CONSTANT = 3.1415\n",
    "\n",
    "\n",
    "class Polynom:\n",
    "    \"\"\"Class description.\"\"\"\n",
    "    \n",
    "    # somehow static variable\n",
    "    _polynoms = []\n",
    "\n",
    "    # function decorator\n",
    "    @property\n",
    "    def polynoms(self):\n",
    "        return type(self)._polynoms\n",
    "    \n",
    "    def __init__(self, coefficients):\n",
    "        \"\"\"Method description.\"\"\"\n",
    "        self.degree = len(coefficients) - 1\n",
    "        self.coefficients = coefficients\n",
    "        \n",
    "        Polynom._polynoms.append([self.degree, self.coefficients])\n",
    "    \n",
    "    # ``private'' function\n",
    "    def _compute(self, x, iteration):\n",
    "        if 1 == iteration:\n",
    "            return self.coefficients[0] * x + self.coefficients[1]\n",
    "        return (x * self.__compute(x, iteration - 1)\n",
    "                + self.coefficients[iteration])\n",
    "    \n",
    "    def __call__(self, x):\n",
    "        \"\"\"Overload of () so that we can `call' the class.\"\"\"    \n",
    "        return self.__compute(x, iteration=self.degree)  \n",
    "\n",
    "\n",
    "def quadratic_function(x, a, b=0, c=0):\n",
    "    \"\"\"Compute y = a*x**2 + b*x + c.\"\"\"\n",
    "    return a*x**2 + b*x + c\n",
    "\n",
    "\n",
    "x = np.linspace(0, 1, num=120)\n",
    "\n",
    "# regular use\n",
    "poly = Polynom([1, -2, 3])\n",
    "y_1 = poly(x)\n",
    "\n",
    "print(poly.polynoms)\n",
    "\n",
    "# using unpacking of a tuple\n",
    "y_2 = quadratic_function(x, *(I_AM_A_CONSTANT, -2,\n",
    "                              poly.coefficients[-1]))\n",
    "\n",
    "# using keyword arguments\n",
    "kwargs = {'a': .5, 'c': 5}\n",
    "y_3 = quadratic_function(x, **kwargs)\n",
    "\n",
    "# save some dummy output for later\n",
    "np.savetxt('./data/EPOS_LHC_proton_18.5_19', np.array([x, y_1]).T)\n",
    "np.savetxt('./data/EPOS_LHC_helium_19_19.5', np.array([x, y_2]).T)\n",
    "np.savetxt('./data/EPOS_LHC_oxygen_19.5_20', np.array([x, y_3]).T)"
   ]
  },
  {
   "cell_type": "markdown",
   "metadata": {},
   "source": [
    "## 3. Jupyter\n",
    "\n",
    "* `pip install jupyter` or `pipenv install --skip-lock jupyter`\n",
    "* `jupyter notebook`"
   ]
  },
  {
   "cell_type": "code",
   "execution_count": 3,
   "metadata": {},
   "outputs": [
    {
     "data": {
      "image/png": "[encoded data removed]",
      "text/plain": [
       "<Figure size 432x288 with 1 Axes>"
      ]
     },
     "metadata": {
      "needs_background": "light"
     },
     "output_type": "display_data"
    }
   ],
   "source": [
    "%matplotlib inline\n",
    "import numpy as np  # unnecessary\n",
    "import matplotlib.pyplot as plt\n",
    "\n",
    "data = np.loadtxt('./data/EPOS_LHC_proton_18.5_19')\n",
    "x, y = np.loadtxt('./data/EPOS_LHC_oxygen_19.5_20').T\n",
    "\n",
    "plt.figure(0)\n",
    "plt.plot(data[::2, 0], data[::2, 1], '.')\n",
    "\n",
    "mask = [True, False] * 60\n",
    "plt.plot(x[mask], y[mask], '.')\n",
    "\n",
    "ax = plt.gca()\n",
    "_ = ax.text(0.5, 0.5, \"Jupyter is good for screwing around!\",\n",
    "            ha='center', va='center', transform=ax.transAxes)\n"
   ]
  },
  {
   "cell_type": "markdown",
   "metadata": {},
   "source": [
    "## 4. Exceptions\n",
    "\n",
    "1. ask for forgivness not permission\n",
    "2. use them!"
   ]
  },
  {
   "cell_type": "code",
   "execution_count": 4,
   "metadata": {},
   "outputs": [
    {
     "name": "stdout",
     "output_type": "stream",
     "text": [
      "['EPOS_LHC_helium_19_19.5', 'config', 'EPOS_LHC_proton_18.5_19', 'refresh_button.png', 'EPOS_LHC_oxygen_19.5_20']\n",
      "./base_dir/EPOS_LHC/proton/18.5_19\n",
      "This is run in each case!\n",
      "This is only run if there is no exception!\n",
      "[Errno 2] No such file or directory: './data/EPOS_LHC_proton_19_19.5'\n",
      "This is run in each case!\n",
      "[Errno 2] No such file or directory: './data/EPOS_LHC_proton_19.5_20'\n",
      "This is run in each case!\n",
      "[Errno 2] No such file or directory: './data/EPOS_LHC_helium_18.5_19'\n",
      "This is run in each case!\n",
      "./base_dir/EPOS_LHC/helium/19_19.5\n",
      "This is run in each case!\n",
      "This is only run if there is no exception!\n",
      "[Errno 2] No such file or directory: './data/EPOS_LHC_helium_19.5_20'\n",
      "This is run in each case!\n",
      "[Errno 2] No such file or directory: './data/EPOS_LHC_oxygen_18.5_19'\n",
      "This is run in each case!\n",
      "[Errno 2] No such file or directory: './data/EPOS_LHC_oxygen_19_19.5'\n",
      "This is run in each case!\n",
      "./base_dir/EPOS_LHC/oxygen/19.5_20\n",
      "This is run in each case!\n",
      "This is only run if there is no exception!\n",
      "[Errno 2] No such file or directory: './data/EPOS_LHC_iron_18.5_19'\n",
      "This is run in each case!\n",
      "[Errno 2] No such file or directory: './data/EPOS_LHC_iron_19_19.5'\n",
      "This is run in each case!\n",
      "[Errno 2] No such file or directory: './data/EPOS_LHC_iron_19.5_20'\n",
      "This is run in each case!\n",
      "{'EPOS_LHC_proton_18.5_19': 120, 'EPOS_LHC_helium_19_19.5': 120, 'EPOS_LHC_oxygen_19.5_20': 120}\n"
     ]
    }
   ],
   "source": [
    "from itertools import product\n",
    "from os import listdir\n",
    "from os.path import join\n",
    "\n",
    "\n",
    "# two spaces before/after functions\n",
    "def count_number_of_lines(filename):\n",
    "    \"\"\"Count number of lines by iterating over file.\"\"\"\n",
    "    with open(filename) as f:\n",
    "        for i, l in enumerate(f):\n",
    "            pass\n",
    "    \n",
    "    return i + 1\n",
    "\n",
    "\n",
    "had_model = 'EPOS'\n",
    "\n",
    "name_components = [['EPOS_LHC' if 'EPOS' == had_model else 'QGSJET-II.04'],\n",
    "                   ['proton', 'helium', 'oxygen', 'iron'],\n",
    "                   ['18.5_19', '19_19.5', '19.5_20']]  # two spaces for inline c.\n",
    "\n",
    "print(listdir('./data'))\n",
    "\n",
    "line_count = {}\n",
    "for name_component in product(*name_components):\n",
    "    try:\n",
    "        filename = '_'.join(name_component)\n",
    "        line_count[filename] = count_number_of_lines(join('./data', filename))\n",
    "\n",
    "        # for testing purposes\n",
    "        print(join('./base_dir', *name_component))\n",
    "    except FileNotFoundError as e:\n",
    "        print(e)\n",
    "        continue\n",
    "    finally:\n",
    "        print('This is run in each case!')\n",
    "\n",
    "    print('This is only run if there is no exception!')\n",
    "    \n",
    "print(line_count)"
   ]
  },
  {
   "cell_type": "markdown",
   "metadata": {},
   "source": [
    "## 5. Loop ... else\n",
    "\n",
    "Python as a neat feature in form of loop ... else construct."
   ]
  },
  {
   "cell_type": "code",
   "execution_count": 6,
   "metadata": {},
   "outputs": [
    {
     "name": "stdout",
     "output_type": "stream",
     "text": [
      "{'a': 1, 'b': [0, 1, 2], 'c': 5}\n",
      "1\n",
      "[0, 1, 2]\n",
      "5\n"
     ]
    }
   ],
   "source": [
    "import json\n",
    "from os.path import join\n",
    "\n",
    "\n",
    "def test_function(a, b, c, none_test=None):\n",
    "    \"\"\".\"\"\"\n",
    "    print(a)\n",
    "    print(b)\n",
    "    \n",
    "    if none_test is None:\n",
    "        print(c)\n",
    "\n",
    "    \n",
    "cfg_dirs = ['/dir_a', '/dir_b', '/dir_c']\n",
    "cfg_dirs += ['./data']\n",
    "\n",
    "cfg_content = None\n",
    "\n",
    "for cfg_dir in cfg_dirs:\n",
    "    try:\n",
    "        with open(join(cfg_dir, 'config')) as f:\n",
    "            cfg_content = json.load(f)\n",
    "            break\n",
    "    except FileNotFoundError:\n",
    "        pass\n",
    "else:\n",
    "    raise FileNotFoundError('No config file found.')\n",
    "\n",
    "print(cfg_content)\n",
    "\n",
    "\n",
    "test_function(**cfg_content)"
   ]
  },
  {
   "cell_type": "markdown",
   "metadata": {},
   "source": [
    "## 6. Generators"
   ]
  },
  {
   "cell_type": "code",
   "execution_count": 45,
   "metadata": {},
   "outputs": [
    {
     "name": "stdout",
     "output_type": "stream",
     "text": [
      "[<function test_function at 0x7f4b1c22ee18>, 2, 'a']\n",
      "[<function test_function at 0x7f4b1c22ee18>, 'a', 2]\n",
      "[2, <function test_function at 0x7f4b1c22ee18>, 'a']\n",
      "[2, 'a', <function test_function at 0x7f4b1c22ee18>]\n",
      "['a', <function test_function at 0x7f4b1c22ee18>, 2]\n",
      "['a', 2, <function test_function at 0x7f4b1c22ee18>]\n",
      "range(0, 5)\n",
      "<generator object permutations at 0x7f4b1c1ed048>\n"
     ]
    }
   ],
   "source": [
    "def permutations(perm):\n",
    "    \"\"\".\"\"\"\n",
    "    if [] == perm:\n",
    "        yield []\n",
    "\n",
    "    for i, p in enumerate(perm):\n",
    "        perm_tmp = perm[:i] + perm[i + 1:]\n",
    "\n",
    "        for p_n in permutations(perm_tmp):\n",
    "            yield ([p] + p_n)\n",
    "\n",
    "\n",
    "def test_function(test_argument=False):\n",
    "    \"\"\"How to use boolean values.\"\"\"\n",
    "    if test_argument:\n",
    "        return 1\n",
    "    else:\n",
    "        return 0\n",
    "\n",
    "\n",
    "for perm in permutations([test_function, 2, 'a']):\n",
    "    print(perm)\n",
    "\n",
    "print(permutations(5))\n",
    "print(list(range(5)))\n"
   ]
  },
  {
   "cell_type": "markdown",
   "metadata": {},
   "source": [
    "## 7. Function decorators"
   ]
  },
  {
   "cell_type": "code",
   "execution_count": 28,
   "metadata": {},
   "outputs": [
    {
     "name": "stdout",
     "output_type": "stream",
     "text": [
      "\n",
      "\n",
      "[1]\n",
      "\n",
      "\n",
      "[1, 1]\n",
      "\n",
      "\n",
      "[1, 1, 1]\n",
      "\n",
      "\n",
      "[2, 1, 1]\n",
      "\n",
      "\n",
      "[1, 1, 1, 1]\n",
      "[1, 1, 1, 1] [2, 1, 1] [1, 1, 1, 1]\n"
     ]
    }
   ],
   "source": [
    "def print_output(func):\n",
    "    \"\"\"Print function output.\"\"\"\n",
    "    \n",
    "    def print_output_wrapper(*args, **kwargs):\n",
    "        for _ in range(2):\n",
    "            print()\n",
    "        \n",
    "        output = func(*args, **kwargs)\n",
    "        print(output)\n",
    "        \n",
    "        return output\n",
    "    return print_output_wrapper\n",
    "\n",
    "\n",
    "@print_output\n",
    "def trap(test=[]):\n",
    "    test.append(1)\n",
    "    return test\n",
    "\n",
    "\n",
    "# be aware of references!\n",
    "trap()\n",
    "trap()\n",
    "print(trap(), trap([2, 1]), trap())\n",
    "\n",
    "# to give a decorater extra arguments we need a class-based\n",
    "# approach (overload __call__ ...)!"
   ]
  },
  {
   "cell_type": "markdown",
   "metadata": {},
   "source": [
    "## 8. Formatted strings"
   ]
  },
  {
   "cell_type": "code",
   "execution_count": 61,
   "metadata": {},
   "outputs": [
    {
     "name": "stdout",
     "output_type": "stream",
     "text": [
      "5.500000, 5.50, 5.500000e+00\n",
      "5.500000, 5.50, 5.500000e+00\n",
      "5.500000, 5.50, 5.500000e+00\n"
     ]
    }
   ],
   "source": [
    "a = 5.5\n",
    "\n",
    "# method 1 (no no)\n",
    "print('%f, %.02f, %e' % (a, a, a))\n",
    "\n",
    "# method 2 (ok)\n",
    "# can be used iteratively!\n",
    "print('{0:f}, {0:.02f}, {0:e}'.format(a))\n",
    "\n",
    "# method 3 (good if applyable!)\n",
    "print(f'{a:f}, {a:0.02f}, {a:e}')\n"
   ]
  },
  {
   "cell_type": "markdown",
   "metadata": {},
   "source": [
    "## 9. Dictionaries"
   ]
  },
  {
   "cell_type": "code",
   "execution_count": 72,
   "metadata": {},
   "outputs": [
    {
     "name": "stdout",
     "output_type": "stream",
     "text": [
      "2\n",
      "works\n",
      "8\n",
      "3\n",
      "a 2\n",
      "c 8\n",
      "e 7\n",
      "d 3\n",
      "{(0, 1): 1.1, (1, 1): 0.1}\n",
      "1.1\n"
     ]
    }
   ],
   "source": [
    "# how to access, initialize, and iterate over dicts\n",
    "tmp = dict(a=2, c='8', e=7)\n",
    "\n",
    "tmp.setdefault('a', 3)\n",
    "tmp.setdefault('d', 3)\n",
    "\n",
    "print(tmp.get('a', 3))\n",
    "print(tmp.get('b', 'works'))\n",
    "print(tmp.get('c', 3))\n",
    "print(tmp.get('d', 'works'))\n",
    "\n",
    "for k, item in tmp.items():\n",
    "    print(k, item)\n",
    "\n",
    "# special dict\n",
    "tmp = {(0, 1): 1.1, (1, 1): 0.1}\n",
    "\n",
    "print(tmp)\n",
    "print(tmp[(0, 1)])\n"
   ]
  },
  {
   "cell_type": "markdown",
   "metadata": {},
   "source": [
    "## 10. Logging\n",
    "\n",
    "see script example: logger_test.py\n",
    "\n",
    "in jupyter this is problematic, as you see here:"
   ]
  },
  {
   "cell_type": "code",
   "execution_count": 19,
   "metadata": {},
   "outputs": [
    {
     "name": "stderr",
     "output_type": "stream",
     "text": [
      "2020-04-28 10:14:23,030 - simple_example - DEBUG - test\n",
      "2020-04-28 10:14:23,030 - simple_example - DEBUG - test\n",
      "2020-04-28 10:14:23,030 - simple_example - DEBUG - test\n",
      "DEBUG:test\n",
      "2020-04-28 10:14:23,033 - simple_example - DEBUG - test\n",
      "2020-04-28 10:14:23,033 - simple_example - DEBUG - test\n",
      "2020-04-28 10:14:23,033 - simple_example - DEBUG - test\n",
      "DEBUG:test\n"
     ]
    }
   ],
   "source": [
    "import logging\n",
    "\n",
    "# taken from Logging HOWTO\n",
    "# create logger\n",
    "logger = logging.getLogger('simple_example')\n",
    "logger.setLevel(logging.DEBUG)\n",
    "\n",
    "# create console handler and set level to debug\n",
    "ch = logging.StreamHandler()\n",
    "ch.setLevel(logging.DEBUG)\n",
    "\n",
    "# create formatter\n",
    "formatter = logging.Formatter('%(asctime)s - %(name)s - %(levelname)s - %(message)s')\n",
    "\n",
    "# add formatter to ch\n",
    "ch.setFormatter(formatter)\n",
    "\n",
    "# add ch to logger\n",
    "logger.addHandler(ch)\n",
    "\n",
    "logger.debug('test')\n",
    "logger.debug('test')\n"
   ]
  },
  {
   "cell_type": "markdown",
   "metadata": {},
   "source": [
    "## 11. Command line arguments\n",
    "\n",
    "see script example: argparse_test.py\n",
    "\n",
    "again, in jupyter this is problematic. ;)"
   ]
  },
  {
   "cell_type": "code",
   "execution_count": null,
   "metadata": {},
   "outputs": [],
   "source": [
    "# ..."
   ]
  },
  {
   "cell_type": "markdown",
   "metadata": {},
   "source": [
    "## 12. Problem solving with Python\n",
    "\n",
    "* in general: python's philosophy is throwing computers at your problem\n",
    "* not useful if low, machine-near, efficient code is required\n",
    "* good enough for every other case\n",
    "\n",
    "see problem.py."
   ]
  },
  {
   "cell_type": "code",
   "execution_count": 29,
   "metadata": {},
   "outputs": [],
   "source": [
    "# ..."
   ]
  },
  {
   "cell_type": "markdown",
   "metadata": {},
   "source": [
    "## 13. Extra info\n",
    "\n",
    "A good start of getting used to Python is to look at its antipatterns: unpythonic code snippets.\n",
    "\n",
    "[The Little Book of Python Anti-Patterns](https://docs.quantifiedcode.com/python-anti-patterns/)"
   ]
  },
  {
   "cell_type": "code",
   "execution_count": null,
   "metadata": {},
   "outputs": [],
   "source": [
    "## 14. BONUS: Operator overloading"
   ]
  },
  {
   "cell_type": "code",
   "execution_count": 4,
   "metadata": {},
   "outputs": [
    {
     "name": "stdout",
     "output_type": "stream",
     "text": [
      "1 0\n",
      "1 1\n",
      "aaaaaaaa\n",
      "1 2\n"
     ]
    },
    {
     "data": {
      "text/plain": [
       "<__main__.SemiPype at 0x7f2d84357908>"
      ]
     },
     "execution_count": 4,
     "metadata": {},
     "output_type": "execute_result"
    }
   ],
   "source": [
    "class SemiPype:  # name stolen from another project (:\n",
    "    \"\"\".\"\"\"\n",
    "    \n",
    "    def __init__(self, func, pass_as_kwargs=False, **kwargs):\n",
    "        \"\"\".\"\"\"\n",
    "        self.func = func\n",
    "        self.kwargs = kwargs\n",
    "        \n",
    "        self.pass_as_kwargs = pass_as_kwargs\n",
    "        \n",
    "        self.first_call = True\n",
    "    \n",
    "    def __or__(self, func):\n",
    "        \"\"\".\"\"\"\n",
    "        if self.first_call or self.pass_as_kwargs:\n",
    "            self.kwargs = self.func(**self.kwargs)\n",
    "            self.first_call = False\n",
    "        else:\n",
    "            self.kwargs = self.func(self.kwargs)\n",
    "        \n",
    "        self.func = func\n",
    "        \n",
    "        return self\n",
    "    \n",
    "    def __ror__(self, func):\n",
    "        \"\"\"Do sth. crazy!\"\"\"\n",
    "        print('aaaaaaaa')\n",
    "        return self\n",
    "\n",
    "\n",
    "def test_func_0(a, b):\n",
    "    print(a, b)\n",
    "    return dict(a=a, b=b+a)\n",
    "\n",
    "\n",
    "pype = SemiPype(test_func_0, pass_as_kwargs=True, a=1, b=0)\n",
    "\n",
    "pype | test_func_0 | test_func_0  # 1 0; 1 1\n",
    "test_func_0 | pype | test_func_0  # aaaaaaa; 1 2\n"
   ]
  },
  {
   "cell_type": "code",
   "execution_count": null,
   "metadata": {},
   "outputs": [],
   "source": []
  }
 ],
 "metadata": {
  "kernelspec": {
   "display_name": "Python 3",
   "language": "python",
   "name": "python3"
  },
  "language_info": {
   "codemirror_mode": {
    "name": "ipython",
    "version": 3
   },
   "file_extension": ".py",
   "mimetype": "text/x-python",
   "name": "python",
   "nbconvert_exporter": "python",
   "pygments_lexer": "ipython3",
   "version": "3.7.3"
  }
 },
 "nbformat": 4,
 "nbformat_minor": 4
}
